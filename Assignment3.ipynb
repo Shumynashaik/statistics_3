{
 "cells": [
  {
   "cell_type": "markdown",
   "id": "abdbcb61-f32f-46a6-8edf-51cb849179a7",
   "metadata": {},
   "source": [
    "1. Ramesh’s basic salary is input through the keyboard. His dearness allowance is 40% of basic salary, and\n",
    "house rent allowance is 20% of basic salary. Write a program to calculate his gross salary."
   ]
  },
  {
   "cell_type": "code",
   "execution_count": 3,
   "id": "de2c2be3-57fe-4f07-bddb-c63fb981f08a",
   "metadata": {},
   "outputs": [
    {
     "name": "stdin",
     "output_type": "stream",
     "text": [
      "enter salary: 10000\n"
     ]
    },
    {
     "name": "stdout",
     "output_type": "stream",
     "text": [
      "the gross salary is16000.0\n"
     ]
    }
   ],
   "source": [
    "salary= eval(input(\"enter salary:\"))\n",
    "dearndess_allowance=salary*40/100\n",
    "house_rent=salary*20/100\n",
    "gross_salary=salary+dearndess_allowance+house_rent\n",
    "print(f\"the gross salary is{gross_salary}\")"
   ]
  },
  {
   "cell_type": "markdown",
   "id": "dbb66c45-4839-487e-89b1-4885da6e6081",
   "metadata": {},
   "source": [
    "2. The distance between two cities (in km.) is input through the keyboard. Write a program to convert and\r\n",
    "print this distance in meters, feet, inches and centimeters."
   ]
  },
  {
   "cell_type": "code",
   "execution_count": 4,
   "id": "3b2b5e48-4cf0-4805-84f5-6622e1a2d4aa",
   "metadata": {},
   "outputs": [
    {
     "name": "stdin",
     "output_type": "stream",
     "text": [
      "enter the number: 30\n"
     ]
    },
    {
     "name": "stdout",
     "output_type": "stream",
     "text": [
      "30000 98430 2.5 300000\n"
     ]
    }
   ],
   "source": [
    "n1=eval(input(\"enter the number:\"))\n",
    "meters= n1*1000\n",
    "feet= n1*3281\n",
    "inch=n1/12\n",
    "centimeters=n1*10000\n",
    "print(meters,feet,inch,centimeters)\n"
   ]
  },
  {
   "cell_type": "markdown",
   "id": "25d21eba-0e4a-4e7b-800a-46b689d070d9",
   "metadata": {},
   "source": [
    "3. If the marks obtained by a student in five different subjects are input through the keyboard, find out the\n",
    "aggregate marks and percentage marks obtained by the student. Assume that the maximum marks that\n",
    "can be obtained by a student in each subject is 100."
   ]
  },
  {
   "cell_type": "code",
   "execution_count": 8,
   "id": "97c2f0e8-0d71-40e7-a2e0-be4958b00164",
   "metadata": {},
   "outputs": [
    {
     "name": "stdin",
     "output_type": "stream",
     "text": [
      "subject1: 98\n",
      "subject2: 96\n",
      "subject:3 97\n",
      "subject4: 98\n",
      "subject5: 90\n",
      "max_marks: 100\n"
     ]
    },
    {
     "name": "stdout",
     "output_type": "stream",
     "text": [
      "percentage 95.8%\n"
     ]
    }
   ],
   "source": [
    "n1=eval(input('subject1:'))\n",
    "n2=eval(input('subject2:'))\n",
    "n3=eval(input('subject:3'))\n",
    "n4=eval(input('subject4:'))\n",
    "n5=eval(input('subject5:'))\n",
    "max_marks =eval(input('max_marks:'))\n",
    "total_obtained = n1 + n2 + n3 + n4 + n5\n",
    "total_max = max_marks * 5\n",
    "percentage = (total_obtained / total_max) * 100\n",
    "print(f\"percentage {percentage:}%\")\n",
    "totalmarks=100\n",
    "\n"
   ]
  },
  {
   "cell_type": "markdown",
   "id": "de4b40dd-6660-4438-ad00-c153793a558b",
   "metadata": {},
   "source": [
    "4. Temperature of a city in Fahrenheit degrees is input through the keyboard. Write a program to convert this\n",
    "temperature into Centigrade degrees."
   ]
  },
  {
   "cell_type": "code",
   "execution_count": 11,
   "id": "a5524a9e-f7f0-4b75-861c-44ae2296888d",
   "metadata": {},
   "outputs": [
    {
     "name": "stdin",
     "output_type": "stream",
     "text": [
      "enter the temperature 54\n"
     ]
    },
    {
     "name": "stdout",
     "output_type": "stream",
     "text": [
      "the converted is12.222222222222221\n"
     ]
    }
   ],
   "source": [
    "Temp=eval(input(\"enter the temperature\"))\n",
    "centigrade=(Temp - 32)*5/9\n",
    "print(f\"the converted is{centigrade}\")\n",
    "\n"
   ]
  },
  {
   "cell_type": "markdown",
   "id": "a4b5bc0e-38ee-4020-9d0a-7a1470a7cf05",
   "metadata": {},
   "source": [
    "5. The length & breadth of a rectangle and radius of a circle are input through the keyboard. Write a program\n",
    "to calculate the area & perimeter of the rectangle, and the area & circumference of the circle."
   ]
  },
  {
   "cell_type": "code",
   "execution_count": 12,
   "id": "8b94fcf2-86ca-4aa3-b805-c2674414f93b",
   "metadata": {},
   "outputs": [
    {
     "name": "stdin",
     "output_type": "stream",
     "text": [
      "Enter the length of the rectangle:  5\n",
      "Enter the breadth of the rectangle:  7\n",
      "Enter the radius of the circle:  7\n"
     ]
    },
    {
     "name": "stdout",
     "output_type": "stream",
     "text": [
      "Area of the rectangle: 35.0\n",
      "Perimeter of the rectangle: 24.0\n",
      "Area of the circle: 153.93804002589985\n",
      "Circumference of the circle: 43.982297150257104\n"
     ]
    }
   ],
   "source": [
    "import math\n",
    "length = float(input(\"Enter the length of the rectangle: \"))\n",
    "breadth = float(input(\"Enter the breadth of the rectangle: \"))\n",
    "area_rectangle = length * breadth\n",
    "perimeter_rectangle = 2 * (length + breadth)\n",
    "radius = float(input(\"Enter the radius of the circle: \"))\n",
    "area_circle = math.pi * radius * radius\n",
    "circumference_circle = 2 * math.pi * radius\n",
    "print(f\"Area of the rectangle: {area_rectangle}\")\n",
    "print(f\"Perimeter of the rectangle: {perimeter_rectangle}\")\n",
    "print(f\"Area of the circle: {area_circle}\")\n",
    "print(f\"Circumference of the circle: {circumference_circle}\")"
   ]
  },
  {
   "cell_type": "markdown",
   "id": "a972e686-9d46-4d40-841e-1ea3e1bbfeeb",
   "metadata": {},
   "source": [
    "6. Two numbers are input through the keyboard into two locations C and D. Write a program to interchange\n",
    "the contents of C and D."
   ]
  },
  {
   "cell_type": "code",
   "execution_count": 13,
   "id": "d7945873-4365-4cac-905c-08448620c1f1",
   "metadata": {},
   "outputs": [
    {
     "name": "stdin",
     "output_type": "stream",
     "text": [
      "enter value: 3\n",
      "enter value: 4\n"
     ]
    },
    {
     "name": "stdout",
     "output_type": "stream",
     "text": [
      "4\n",
      "3\n"
     ]
    }
   ],
   "source": [
    "A=eval(input(\"enter value:\"))\n",
    "B=eval(input(\"enter value:\" ))\n",
    "A,B=B,A\n",
    "print(A)\n",
    "print(B)"
   ]
  },
  {
   "cell_type": "markdown",
   "id": "c9235fb4-96d6-43ea-a526-89a525a0f489",
   "metadata": {},
   "source": [
    "7.If a five-digit number is input through the keyboard, write a program to reverse the number."
   ]
  },
  {
   "cell_type": "code",
   "execution_count": 22,
   "id": "9fc7ec0c-d661-4393-99f8-1c14f1191545",
   "metadata": {},
   "outputs": [
    {
     "name": "stdin",
     "output_type": "stream",
     "text": [
      " 1234\n"
     ]
    },
    {
     "name": "stdout",
     "output_type": "stream",
     "text": [
      "4321\n"
     ]
    }
   ],
   "source": [
    "n1=input(\"\")\n",
    "n1=n1[::-1]\n",
    "print(n1)\n",
    "\n"
   ]
  },
  {
   "cell_type": "markdown",
   "id": "8d5c886e-6d14-4e65-abca-5be281f8ad13",
   "metadata": {},
   "source": [
    "8.If a four-digit number is input through the keyboard, write a program to obtain the sum of the first and last\n",
    "digit of this number."
   ]
  },
  {
   "cell_type": "code",
   "execution_count": 37,
   "id": "3da3c374-b7a6-46a4-b207-5b5d6be422e5",
   "metadata": {},
   "outputs": [
    {
     "name": "stdin",
     "output_type": "stream",
     "text": [
      " 1234\n"
     ]
    },
    {
     "name": "stdout",
     "output_type": "stream",
     "text": [
      "5\n"
     ]
    }
   ],
   "source": [
    "n1=(input(\"\"))\n",
    "n2=int(n1[0])\n",
    "n3=int(n1[-1])\n",
    "print(n2+n3)\n"
   ]
  },
  {
   "cell_type": "markdown",
   "id": "ae7b1974-35fe-49fa-90eb-2e33548fc088",
   "metadata": {},
   "source": [
    "9.In a town, the percentage of men is 52. The percentage of total literacy is 48. If total percentage of literate\n",
    "men is 35 of the total population, write a program to find the total number of illiterate men and women if\n",
    "the population of the town is 80,000."
   ]
  },
  {
   "cell_type": "code",
   "execution_count": 11,
   "id": "b22261b2-a805-4bd8-b37e-3507a6e62b13",
   "metadata": {},
   "outputs": [
    {
     "name": "stdout",
     "output_type": "stream",
     "text": [
      "the total number of illiterate men are 13600.0 and women are 28000.0\n"
     ]
    }
   ],
   "source": [
    "percentage_men=52/100*80000\n",
    "total_literacy=48/100*80000\n",
    "literate_men=35/100*80000\n",
    "percentage_women=48/100*80000\n",
    "total_illterate_men=percentage_men-literate_men\n",
    "literate_women =total_literacy-literate_men\n",
    "total_illterate_women=percentage_women-literate_women\n",
    "print(f'the total number of illiterate men are {total_illterate_men} and women are {total_illterate_women}')\n"
   ]
  },
  {
   "cell_type": "markdown",
   "id": "f9da9e2c-0d11-4f68-9ee2-8923cda248e1",
   "metadata": {},
   "source": [
    "10.A cashier has currency notes of denominations 10, 50 and 100. If the amount to be withdrawn is input\r\n",
    "through the keyboard in hundreds, find the total number of currency notes of each denomination the\r\n",
    "cashier will have to give to the withdrawer."
   ]
  },
  {
   "cell_type": "code",
   "execution_count": 5,
   "id": "98134d78-388e-4693-9d7d-e2ee6afa998b",
   "metadata": {},
   "outputs": [
    {
     "name": "stdin",
     "output_type": "stream",
     "text": [
      "Amount withdrawn in Hundrds:  550\n"
     ]
    },
    {
     "name": "stdout",
     "output_type": "stream",
     "text": [
      "Number of 100 rupees notes are 5\n",
      "Number of 50 rupees notes are 1\n",
      "Number Of 10 rupees notes are 0\n"
     ]
    }
   ],
   "source": [
    "import math\n",
    "user_input=eval(input(\"Amount withdrawn in Hundrds: \"))\n",
    "number_100=math.floor(user_input/100)\n",
    "print(f'Number of 100 rupees notes are {number_100}')\n",
    "remaining_amount_50=user_input-(number_100*100)\n",
    "number_50=math.floor(remaining_amount_50/50)\n",
    "print(f'Number of 50 rupees notes are {number_50}')\n",
    "remaining_amount_10=user_input-(number_100*100+number_50*50)\n",
    "number_1=math.floor(remaining_amount_10/10)\n",
    "print(f'Number Of 10 rupees notes are {number_1}')"
   ]
  },
  {
   "cell_type": "code",
   "execution_count": null,
   "id": "1458792d-1e2a-4cf1-8ed6-2b3bc710cf6e",
   "metadata": {},
   "outputs": [],
   "source": []
  }
 ],
 "metadata": {
  "kernelspec": {
   "display_name": "Python 3 (ipykernel)",
   "language": "python",
   "name": "python3"
  },
  "language_info": {
   "codemirror_mode": {
    "name": "ipython",
    "version": 3
   },
   "file_extension": ".py",
   "mimetype": "text/x-python",
   "name": "python",
   "nbconvert_exporter": "python",
   "pygments_lexer": "ipython3",
   "version": "3.11.7"
  }
 },
 "nbformat": 4,
 "nbformat_minor": 5
}
