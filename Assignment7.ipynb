{
 "cells": [
  {
   "cell_type": "markdown",
   "id": "b02361ae-b943-4b21-bf5c-df29bb5fe446",
   "metadata": {},
   "source": [
    "1.take a random number between  1 to 100 print it is a even number and odd number you need to generate 3 random number"
   ]
  },
  {
   "cell_type": "code",
   "execution_count": 1,
   "id": "3b75dad8-8105-46d7-a2df-2b8d51001ca2",
   "metadata": {},
   "outputs": [
    {
     "name": "stdout",
     "output_type": "stream",
     "text": [
      "the number is even: 6\n",
      "the number is even: 26\n",
      "the number is odd: 15\n"
     ]
    }
   ],
   "source": [
    "import random\n",
    "for i in range (3):\n",
    "    n1=random.randint(1,100)\n",
    "    if n1%2==0:\n",
    "        print(\"the number is even:\",n1)\n",
    "    else:\n",
    "        print(\"the number is odd:\",n1)\n",
    "        "
   ]
  },
  {
   "cell_type": "markdown",
   "id": "3aca92bc-1724-47a5-b7b1-946b4bdfacde",
   "metadata": {},
   "source": [
    "2.wap ask the user print the number is even or odd between 10 to 20\n"
   ]
  },
  {
   "cell_type": "code",
   "execution_count": 6,
   "id": "2d551772-d930-414e-8601-ca799db217eb",
   "metadata": {},
   "outputs": [
    {
     "name": "stdout",
     "output_type": "stream",
     "text": [
      "even: 10\n",
      "odd: 11\n",
      "even: 12\n",
      "odd: 13\n",
      "even: 14\n",
      "odd: 15\n",
      "even: 16\n",
      "odd: 17\n",
      "even: 18\n",
      "odd: 19\n"
     ]
    }
   ],
   "source": [
    "for i in range (10,20):\n",
    "    if i%2==0:\n",
    "        print(\"even:\",i)\n",
    "    else:\n",
    "        print(\"odd:\",i)\n",
    "        "
   ]
  },
  {
   "cell_type": "markdown",
   "id": "59ea94cb-a6f5-4b72-a192-0cc0805633a9",
   "metadata": {},
   "source": [
    "3.wap ask the user print the square of the number between 20 to 25"
   ]
  },
  {
   "cell_type": "code",
   "execution_count": 7,
   "id": "b56d7c05-0b36-477c-9f76-0a45867c8b62",
   "metadata": {},
   "outputs": [
    {
     "name": "stdout",
     "output_type": "stream",
     "text": [
      "400 441 484 529 576 625 "
     ]
    }
   ],
   "source": [
    "for i in range(20,26):\n",
    "    print(i*i,end=' ')"
   ]
  },
  {
   "cell_type": "markdown",
   "id": "574a24bd-3a8b-4da6-b8dc-40f89ebdfe7a",
   "metadata": {},
   "source": [
    "4. WAP ask the user enter number three times find the square of the number How many times loop should run"
   ]
  },
  {
   "cell_type": "code",
   "execution_count": 9,
   "id": "9b0e9f6b-4f27-492c-b6c6-408d47c85d4f",
   "metadata": {},
   "outputs": [
    {
     "name": "stdin",
     "output_type": "stream",
     "text": [
      "enter a number 5\n"
     ]
    },
    {
     "name": "stdout",
     "output_type": "stream",
     "text": [
      "25 "
     ]
    },
    {
     "name": "stdin",
     "output_type": "stream",
     "text": [
      "enter a number 6\n"
     ]
    },
    {
     "name": "stdout",
     "output_type": "stream",
     "text": [
      "36 "
     ]
    },
    {
     "name": "stdin",
     "output_type": "stream",
     "text": [
      "enter a number 7\n"
     ]
    },
    {
     "name": "stdout",
     "output_type": "stream",
     "text": [
      "49 "
     ]
    }
   ],
   "source": [
    "for i in range(3):\n",
    "    user_input=eval(input(\"enter a number\"))\n",
    "    print(user_input**2,end=' ')"
   ]
  },
  {
   "cell_type": "markdown",
   "id": "f2dbcb2d-1dcd-4b85-8e2b-143a98d041d1",
   "metadata": {},
   "source": [
    "5.print the 14th table\n"
   ]
  },
  {
   "cell_type": "code",
   "execution_count": 10,
   "id": "7e4d05dd-a6ff-417f-b98c-6e7c3aa06bf9",
   "metadata": {},
   "outputs": [
    {
     "name": "stdin",
     "output_type": "stream",
     "text": [
      "enter a number 14\n"
     ]
    },
    {
     "name": "stdout",
     "output_type": "stream",
     "text": [
      "14x1=14\n",
      "14x2=28\n",
      "14x3=42\n",
      "14x4=56\n",
      "14x5=70\n",
      "14x6=84\n",
      "14x7=98\n",
      "14x8=112\n",
      "14x9=126\n",
      "14x10=140\n"
     ]
    }
   ],
   "source": [
    "user_input=eval(input(\"enter a number\"))\n",
    "for i in range(1,11):\n",
    "    print(f\"{user_input}x{i}={user_input*i}\")"
   ]
  },
  {
   "cell_type": "markdown",
   "id": "3cdd98d2-0ff6-43b4-b3a7-64e14780adf8",
   "metadata": {},
   "source": [
    " 6.Find the factors of 75"
   ]
  },
  {
   "cell_type": "code",
   "execution_count": 11,
   "id": "d9ca72a1-2096-449c-bcc7-1317d316c978",
   "metadata": {},
   "outputs": [
    {
     "name": "stdin",
     "output_type": "stream",
     "text": [
      "enter a number 75\n"
     ]
    },
    {
     "name": "stdout",
     "output_type": "stream",
     "text": [
      "1 3 5 15 25 75 "
     ]
    }
   ],
   "source": [
    "user_input=eval(input(\"enter a number\"))\n",
    "for i in range(1,user_input+1):\n",
    "    if user_input%i==0:\n",
    "        print(i,end=' ')"
   ]
  },
  {
   "cell_type": "markdown",
   "id": "2e25c043-ff0a-4ae4-bd8d-a4a3e70f4478",
   "metadata": {},
   "source": [
    "7. Write the sum of first 10 Natural numbers"
   ]
  },
  {
   "cell_type": "code",
   "execution_count": 12,
   "id": "96b6911e-49cd-41a4-8930-5db332aa4052",
   "metadata": {},
   "outputs": [
    {
     "name": "stdout",
     "output_type": "stream",
     "text": [
      "55\n"
     ]
    }
   ],
   "source": [
    "summ=0\n",
    "for i in range(1,11):\n",
    "    summ=summ+i\n",
    "print(summ)"
   ]
  },
  {
   "cell_type": "markdown",
   "id": "9f485c5d-b83e-407e-9402-4239c26e6c23",
   "metadata": {},
   "source": [
    "8.Average first 1 to 10 numbers"
   ]
  },
  {
   "cell_type": "code",
   "execution_count": 14,
   "id": "793c79b0-ec09-4cc2-a406-a2b05fcf25bb",
   "metadata": {},
   "outputs": [
    {
     "name": "stdin",
     "output_type": "stream",
     "text": [
      " 10\n"
     ]
    },
    {
     "name": "stdout",
     "output_type": "stream",
     "text": [
      "5.5\n"
     ]
    }
   ],
   "source": [
    "summ=0\n",
    "n=eval(input(\"\"))\n",
    "for i in range(1,n+1):\n",
    "      summ=summ+i\n",
    "print(summ/n)"
   ]
  },
  {
   "cell_type": "markdown",
   "id": "1d6a24e5-c999-4214-bc27-5dda8dabc5e7",
   "metadata": {},
   "source": [
    " 9.Find the number of divisors of 75"
   ]
  },
  {
   "cell_type": "code",
   "execution_count": 15,
   "id": "ce79337f-bc96-4da5-bc99-68d42c4efba7",
   "metadata": {},
   "outputs": [
    {
     "name": "stdin",
     "output_type": "stream",
     "text": [
      "enter the number 75\n"
     ]
    },
    {
     "name": "stdout",
     "output_type": "stream",
     "text": [
      "6\n"
     ]
    }
   ],
   "source": [
    "count=0\n",
    "num=eval(input(\"enter the number\"))\n",
    "for i in range(1,num+1):\n",
    "    if num%i==0:\n",
    "        count=count+1\n",
    "print(count)"
   ]
  },
  {
   "cell_type": "markdown",
   "id": "0920cfa6-d5b4-4d43-bf99-b42a2eaed73e",
   "metadata": {},
   "source": [
    "10.Get a random number between  1 to 10 :  num1 Ask the user enter a number : num2 if num1 == num2  then print won else print failail"
   ]
  },
  {
   "cell_type": "code",
   "execution_count": 18,
   "id": "1811cbd4-8073-4547-b2e8-eb5effd58e0f",
   "metadata": {},
   "outputs": [
    {
     "name": "stdin",
     "output_type": "stream",
     "text": [
      "enter the number 44\n"
     ]
    },
    {
     "name": "stdout",
     "output_type": "stream",
     "text": [
      "lost\n"
     ]
    },
    {
     "name": "stdin",
     "output_type": "stream",
     "text": [
      "enter the number 55\n"
     ]
    },
    {
     "name": "stdout",
     "output_type": "stream",
     "text": [
      "lost\n"
     ]
    },
    {
     "name": "stdin",
     "output_type": "stream",
     "text": [
      "enter the number 87\n"
     ]
    },
    {
     "name": "stdout",
     "output_type": "stream",
     "text": [
      "lost\n"
     ]
    }
   ],
   "source": [
    "import random\n",
    "for i in range(3):\n",
    "    num1=random.randint(1,100)\n",
    "    num2=eval(input(\"enter the number\"))\n",
    "    if num1==num2:\n",
    "        print(\"hurray!!\")\n",
    "    else:\n",
    "        print(\"lost\")"
   ]
  },
  {
   "cell_type": "code",
   "execution_count": 20,
   "id": "7c5c46f5-7e40-49c7-91cf-ef7878f8a05f",
   "metadata": {},
   "outputs": [
    {
     "name": "stdin",
     "output_type": "stream",
     "text": [
      "enter the number 4\n"
     ]
    },
    {
     "name": "stdout",
     "output_type": "stream",
     "text": [
      "lost\n"
     ]
    },
    {
     "name": "stdin",
     "output_type": "stream",
     "text": [
      "enter the number 5\n"
     ]
    },
    {
     "name": "stdout",
     "output_type": "stream",
     "text": [
      "lost\n"
     ]
    },
    {
     "name": "stdin",
     "output_type": "stream",
     "text": [
      "enter the number 5\n"
     ]
    },
    {
     "name": "stdout",
     "output_type": "stream",
     "text": [
      "lost\n"
     ]
    }
   ],
   "source": [
    "# Case-2: whenever you won the code should stop\n",
    "import random\n",
    "for i in range(3):\n",
    "    num1=random.randint(1,10)\n",
    "    num2=eval(input(\"enter the number\"))\n",
    "    if num1==num2:\n",
    "        print(\"hurray!!\")\n",
    "        break\n",
    "    else:\n",
    "        print(\"lost\")"
   ]
  },
  {
   "cell_type": "markdown",
   "id": "cb358f4f-30fd-453b-b22a-6bfa6dd64cca",
   "metadata": {},
   "source": [
    "11. wap ask the user get 5 random numbers Get it is an even number or odd number also count how many even numbers are there\n",
    "and count how many odd numbers are there"
   ]
  },
  {
   "cell_type": "code",
   "execution_count": 28,
   "id": "dc5d9fc5-6495-4bb3-80e1-8de9d804c5d7",
   "metadata": {},
   "outputs": [
    {
     "name": "stdout",
     "output_type": "stream",
     "text": [
      "even 20-1\n",
      "odd 15-1\n",
      "odd 3-2\n",
      "even 12-2\n",
      "odd 5-3\n"
     ]
    }
   ],
   "source": [
    "import random\n",
    "even_count=0\n",
    "odd_count=0\n",
    "for i in range (5):\n",
    "    num=random.randint(1,20)\n",
    "    if num%2==0: \n",
    "        even_count=even_count+1\n",
    "        print(f\"even {num}-{even_count}\")\n",
    "    else:\n",
    "        odd_count=odd_count+1\n",
    "        print(f\"odd {num}-{odd_count}\")"
   ]
  },
  {
   "cell_type": "code",
   "execution_count": 31,
   "id": "01ddf4f7-9f22-4a0f-b17f-cbbbe79fdb0c",
   "metadata": {},
   "outputs": [
    {
     "name": "stdout",
     "output_type": "stream",
     "text": [
      "the number is even 20\n",
      "1\n",
      "the number is even 12\n",
      "2\n",
      "the number is even 20\n",
      "3\n",
      "the number is even 16\n",
      "4\n",
      "the number is odd 1\n",
      "1\n"
     ]
    }
   ],
   "source": [
    "# take two counters one even and odd count\n",
    "# For loop 5 times\n",
    "# each time take the random number\n",
    "# If condition\n",
    "#    True counter update\n",
    "# else\n",
    "#   Update the counter\n",
    "import random\n",
    "even_count=0\n",
    "odd_count=0\n",
    "for i in range (5):\n",
    "    num=random.randint(1,20)\n",
    "    if num%2==0: \n",
    "        print(f\"the number is even {num}\")\n",
    "        even_count=even_count+1\n",
    "        print(even_count)\n",
    "    else:\n",
    "        print(f\"the number is odd {num}\")\n",
    "        odd_count=odd_count+1\n",
    "        print(odd_count)"
   ]
  },
  {
   "cell_type": "markdown",
   "id": "9a9a483a-89c1-491a-b29c-4c24214c9797",
   "metadata": {},
   "source": [
    "12. wap ask the user get 5 random numbers Get it is an even number or odd number also count how many even numbers are there and count how many odd numbers are there I want summ even numbers I want summ odd numbers\n"
   ]
  },
  {
   "cell_type": "code",
   "execution_count": 3,
   "id": "2c3cdd97-c89e-4706-9f00-fb8d496b47e2",
   "metadata": {},
   "outputs": [
    {
     "name": "stdout",
     "output_type": "stream",
     "text": [
      "2\n",
      "the sum of even numbers6\n",
      "3\n",
      "the sum of even numbers15\n"
     ]
    }
   ],
   "source": [
    "import random\n",
    "even_count=0\n",
    "odd_count=0\n",
    "even_summ=0\n",
    "odd_summ=0\n",
    "for i in range (5):\n",
    "    num=random.randint(1,10)\n",
    "    if num%2==0: \n",
    "        even_count=even_count+1\n",
    "        even_summ=even_summ+num\n",
    "    else:\n",
    "        odd_count=odd_count+1\n",
    "        odd_summ=odd_summ+num\n",
    "print(even_count)\n",
    "print(f\"the sum of even numbers{even_summ}\")\n",
    "print(odd_count)\n",
    "print(f\"the sum of even numbers{odd_summ}\")"
   ]
  },
  {
   "cell_type": "code",
   "execution_count": null,
   "id": "75f38887-fbc9-4dc4-87c9-7e1537e8b73b",
   "metadata": {},
   "outputs": [],
   "source": []
  },
  {
   "cell_type": "code",
   "execution_count": null,
   "id": "4c563190-eb7c-4822-b163-6ab9caae607f",
   "metadata": {},
   "outputs": [],
   "source": []
  }
 ],
 "metadata": {
  "kernelspec": {
   "display_name": "Python 3 (ipykernel)",
   "language": "python",
   "name": "python3"
  },
  "language_info": {
   "codemirror_mode": {
    "name": "ipython",
    "version": 3
   },
   "file_extension": ".py",
   "mimetype": "text/x-python",
   "name": "python",
   "nbconvert_exporter": "python",
   "pygments_lexer": "ipython3",
   "version": "3.11.7"
  }
 },
 "nbformat": 4,
 "nbformat_minor": 5
}
