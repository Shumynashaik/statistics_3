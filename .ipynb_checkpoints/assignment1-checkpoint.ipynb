{
 "cells": [
  {
   "cell_type": "code",
   "execution_count": 1,
   "id": "943bb921-904a-41a0-9fa4-c0900aa829aa",
   "metadata": {},
   "outputs": [
    {
     "data": {
      "text/plain": [
       "30"
      ]
     },
     "execution_count": 1,
     "metadata": {},
     "output_type": "execute_result"
    }
   ],
   "source": [
    "a=10\n",
    "b=20\n",
    "c=a+b\n",
    "c"
   ]
  },
  {
   "cell_type": "code",
   "execution_count": 1,
   "id": "67048c82-9277-4b3c-bcbb-325c65ec95ed",
   "metadata": {},
   "outputs": [
    {
     "name": "stdin",
     "output_type": "stream",
     "text": [
      "Enter a number:  7\n"
     ]
    },
    {
     "name": "stdout",
     "output_type": "stream",
     "text": [
      "The square of 7 is 49.\n"
     ]
    }
   ],
   "source": [
    "number =int(input(\"Enter a number: \"))\n",
    "square = number ** 2\n",
    "print(f\"The square of {number} is {square}.\")"
   ]
  },
  {
   "cell_type": "code",
   "execution_count": 2,
   "id": "d589f024-3ea9-4fa9-9789-4ba4f92f21d0",
   "metadata": {},
   "outputs": [
    {
     "name": "stdin",
     "output_type": "stream",
     "text": [
      "Enter a number:  7\n"
     ]
    },
    {
     "name": "stdout",
     "output_type": "stream",
     "text": [
      "7--->14--->21--->28--->35\n"
     ]
    }
   ],
   "source": [
    "x = int(input(\"Enter a number: \"))\n",
    "print(x,x*2,x*3,x*4,x*5,sep='--->')"
   ]
  },
  {
   "cell_type": "code",
   "execution_count": 7,
   "id": "6c9aa98b-1b11-4fed-b6bf-84e20882a6bf",
   "metadata": {},
   "outputs": [
    {
     "name": "stdin",
     "output_type": "stream",
     "text": [
      "Enter a weight in kilograms:  8\n"
     ]
    },
    {
     "name": "stdout",
     "output_type": "stream",
     "text": [
      "8.0 kilograms is equal to 17.6 pounds.\n"
     ]
    }
   ],
   "source": [
    "kilograms = float(input(\"Enter a weight in kilograms: \"))\n",
    "pounds = kilograms * 2.2\n",
    "print(f\"{kilograms} kilograms is equal to {pounds} pounds.\")"
   ]
  },
  {
   "cell_type": "code",
   "execution_count": 4,
   "id": "9a79b102-3196-4a50-beef-e181e829212b",
   "metadata": {},
   "outputs": [
    {
     "name": "stdin",
     "output_type": "stream",
     "text": [
      " 10\n",
      " 20\n",
      " 30\n"
     ]
    },
    {
     "name": "stdout",
     "output_type": "stream",
     "text": [
      "average of three numbers is40.0\n"
     ]
    }
   ],
   "source": [
    "n1=eval(input())\n",
    "n2=eval(input())\n",
    "n3=eval(input())\n",
    "add=n1+n2+n3/3\n",
    "print('average of three numbers is{}'.format(add))\n"
   ]
  },
  {
   "cell_type": "code",
   "execution_count": 15,
   "id": "9506e7f1-fa87-46cd-8eac-eb6f94ba3898",
   "metadata": {},
   "outputs": [
    {
     "name": "stdin",
     "output_type": "stream",
     "text": [
      "bill: 1000\n"
     ]
    },
    {
     "name": "stdout",
     "output_type": "stream",
     "text": [
      "the bill is 1000\n",
      "the total bill is 1100.0\n"
     ]
    }
   ],
   "source": [
    "rb=eval(input('bill:'))\n",
    "tip=10/100\n",
    "ta=rb*tip\n",
    "total=rb+ta\n",
    "print(\"the bill is {}\".format(rb))\n",
    "print(\"the total bill is {}\".format(total))"
   ]
  },
  {
   "cell_type": "code",
   "execution_count": 5,
   "id": "72da601e-671f-4b3d-ba18-120b6ba2fe5d",
   "metadata": {},
   "outputs": [
    {
     "name": "stdin",
     "output_type": "stream",
     "text": [
      " 40\n",
      " 30\n"
     ]
    },
    {
     "name": "stdout",
     "output_type": "stream",
     "text": [
      "addtion of three numbers is70\n",
      "subtraction of three numbers is10\n",
      "multiplication of three numbers is1200\n",
      "division of three numbers is1.3333333333333333\n"
     ]
    }
   ],
   "source": [
    "n1=eval(input())\n",
    "n2=eval(input())\n",
    "add=n1+n2\n",
    "sub=n1-n2\n",
    "mul=n1*n2\n",
    "div=n1/n2\n",
    "print('addtion of three numbers is{}'.format(add))\n",
    "print('subtraction of three numbers is{}'.format(sub))\n",
    "print('multiplication of three numbers is{}'.format(mul))\n",
    "print('division of three numbers is{}'.format(div))\n"
   ]
  },
  {
   "cell_type": "code",
   "execution_count": 6,
   "id": "434b1760-7bad-4b80-b492-ae4c8b494a19",
   "metadata": {},
   "outputs": [
    {
     "name": "stdin",
     "output_type": "stream",
     "text": [
      " 10\n",
      " 3.14\n"
     ]
    },
    {
     "name": "stdout",
     "output_type": "stream",
     "text": [
      "the area of cirlce : 314.0 \n"
     ]
    }
   ],
   "source": [
    "n1=eval(input())\n",
    "pi=eval(input())\n",
    "aoc=pi*n1*n1\n",
    "print(f\"the area of cirlce : {aoc} \")"
   ]
  },
  {
   "cell_type": "code",
   "execution_count": 14,
   "id": "a03c6004-6119-4da5-ac88-85a5fbf72cda",
   "metadata": {},
   "outputs": [
    {
     "name": "stdin",
     "output_type": "stream",
     "text": [
      "the bill is: 1000\n"
     ]
    },
    {
     "name": "stdout",
     "output_type": "stream",
     "text": [
      "the total bill is 80000\n"
     ]
    }
   ],
   "source": [
    "bill= int(input(\"the bill is:\"))\n",
    "dollar=bill*80\n",
    "print(\"the total bill is {}\".format(dollar))"
   ]
  },
  {
   "cell_type": "code",
   "execution_count": 8,
   "id": "b8759133-de8b-40e8-96b8-bd842063c9c5",
   "metadata": {},
   "outputs": [
    {
     "name": "stdin",
     "output_type": "stream",
     "text": [
      " 10\n",
      " 20\n"
     ]
    },
    {
     "name": "stdout",
     "output_type": "stream",
     "text": [
      "the area of triangle is 100.0\n"
     ]
    }
   ],
   "source": [
    "b=eval(input())\n",
    "h=eval(input())\n",
    "aot=1/2*b*h\n",
    "print(f\"the area of triangle is {aot}\")"
   ]
  },
  {
   "cell_type": "code",
   "execution_count": 10,
   "id": "8cd93b78-07fe-48c6-aaa8-7b2c0228c354",
   "metadata": {},
   "outputs": [
    {
     "name": "stdin",
     "output_type": "stream",
     "text": [
      " 10\n",
      " 20\n"
     ]
    },
    {
     "name": "stdout",
     "output_type": "stream",
     "text": [
      "the area of rectangleis 200\n"
     ]
    }
   ],
   "source": [
    "l=eval(input())\n",
    "b=eval(input())\n",
    "aor=l*b\n",
    "print(f\"the area of rectangleis {aor}\")"
   ]
  },
  {
   "cell_type": "code",
   "execution_count": 2,
   "id": "bf1105a0-d022-4fe1-af99-5ef0e0d9c2d4",
   "metadata": {},
   "outputs": [
    {
     "name": "stdin",
     "output_type": "stream",
     "text": [
      "Father: Hey Baby! \n",
      "Daughter: Hello Daddy \n",
      "Father: I heard your exams are over, what about result \n",
      "Daughter: Yes dad! Results are out. \n",
      "Father: What is the percentage? \n",
      "Daughter: I will give my subject wise marks, you tell me the percentage \n",
      "Father: Okay! \n",
      "First Language:  98\n",
      "Second language:  78\n",
      "Third language:  70\n",
      "Science:  99\n",
      "Maths:  100\n",
      "Daughter: Dad, now tell me how much percentage I got \n",
      "Father: Tell me the max marks of each subject \n",
      "Daughter:  100\n"
     ]
    },
    {
     "name": "stdout",
     "output_type": "stream",
     "text": [
      "Father: You got 89.0%\n"
     ]
    }
   ],
   "source": [
    "input(\"Father: Hey Baby!\")\n",
    "input(\"Daughter: Hello Daddy\")\n",
    "input(\"Father: I heard your exams are over, what about result\")\n",
    "input(\"Daughter: Yes dad! Results are out.\")\n",
    "input(\"Father: What is the percentage?\")\n",
    "input(\"Daughter: I will give my subject wise marks, you tell me the percentage\")\n",
    "input(\"Father: Okay!\")\n",
    "sub1 = eval(input(\"First Language: \"))\n",
    "sub2 = eval(input(\"Second language: \"))\n",
    "sub3 = eval(input(\"Third language: \"))\n",
    "sub4 = eval(input(\"Science: \"))\n",
    "sub5 = eval(input(\"Maths: \"))\n",
    "input(\"Daughter: Dad, now tell me how much percentage I got\")\n",
    "input(\"Father: Tell me the max marks of each subject\")\n",
    "max_marks = eval(input(\"Daughter: \"))\n",
    "total_obtained = sub1 + sub2 + sub3 + sub4 + sub5\n",
    "total_max = max_marks * 5\n",
    "percentage = (total_obtained / total_max) * 100\n",
    "print(f\"Father: You got {percentage:}%\")\n"
   ]
  },
  {
   "cell_type": "code",
   "execution_count": null,
   "id": "996e23bc-f2cd-45cc-88ab-dff64d032937",
   "metadata": {},
   "outputs": [],
   "source": []
  }
 ],
 "metadata": {
  "kernelspec": {
   "display_name": "Python 3 (ipykernel)",
   "language": "python",
   "name": "python3"
  },
  "language_info": {
   "codemirror_mode": {
    "name": "ipython",
    "version": 3
   },
   "file_extension": ".py",
   "mimetype": "text/x-python",
   "name": "python",
   "nbconvert_exporter": "python",
   "pygments_lexer": "ipython3",
   "version": "3.11.7"
  }
 },
 "nbformat": 4,
 "nbformat_minor": 5
}
