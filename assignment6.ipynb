{
 "cells": [
  {
   "cell_type": "code",
   "execution_count": null,
   "id": "3e253e6c-ec6d-488d-93d1-b3cbb6749420",
   "metadata": {},
   "outputs": [],
   "source": [
    "# Case-1:\n",
    "def addition(n1,n2=600):\n",
    "add=n1+n2\n",
    "print(add)\n",
    "addition(500)\n",
    "#  define the function by assigning default value n2=600\n",
    "# call the function n1=500\n",
    "#running the fuction n1+n2"
   ]
  },
  {
   "cell_type": "code",
   "execution_count": 4,
   "id": "a4df0ea4-d08c-4663-9aa9-2c20778a37a7",
   "metadata": {},
   "outputs": [
    {
     "name": "stdout",
     "output_type": "stream",
     "text": [
      "1500\n"
     ]
    }
   ],
   "source": [
    "# Case-2:\n",
    "def addition(n1,n2=600):\n",
    "    add=n1+n2\n",
    "    print(add)\n",
    "addition(500,1000)\n",
    "# First we are defining function n2=600\n",
    "# now we are calling the function,\n",
    "# while we are calling n2=1000\n"
   ]
  },
  {
   "cell_type": "code",
   "execution_count": 5,
   "id": "f4832a3e-eed7-41fe-b25e-987e142aec81",
   "metadata": {},
   "outputs": [
    {
     "name": "stdout",
     "output_type": "stream",
     "text": [
      "2500\n"
     ]
    }
   ],
   "source": [
    "# Case-3:\n",
    "def addition(n1,n2=600):\n",
    "    n2=2000\n",
    "    add=n1+n2\n",
    "    print(add)\n",
    "addition(500,1000)\n",
    "# Step-1: Define the function n2=600\n",
    "# Step-2: Call the fuction n2=1000\n",
    "# Step-3: Running the function n1+n2"
   ]
  },
  {
   "cell_type": "code",
   "execution_count": 6,
   "id": "8bee6b10-db99-48ed-a82b-09ee0986d769",
   "metadata": {},
   "outputs": [
    {
     "name": "stdout",
     "output_type": "stream",
     "text": [
      "2500\n"
     ]
    }
   ],
   "source": [
    "# Case-4:\n",
    "def addition(n1,n2=600):\n",
    "    n2=2000#running the function\n",
    "    add=n1+n2\n",
    "    print(add)\n",
    "    n2=3000\n",
    "addition(500,1000)\n",
    "# setp1 defining a function n=600\n",
    "# step2 calling the function n2=1000\n",
    "#n2=3000 defined outside the fuction\n",
    "# step3:running the function n2=2000"
   ]
  },
  {
   "cell_type": "code",
   "execution_count": 7,
   "id": "c09212d6-174d-4278-bd83-1eb3301a1d8c",
   "metadata": {},
   "outputs": [
    {
     "name": "stdout",
     "output_type": "stream",
     "text": [
      "1200\n"
     ]
    }
   ],
   "source": [
    "# Case-5:\n",
    "a1=100\n",
    "b1=200\n",
    "def add11(a1=1000):\n",
    "    add1=a1+b1\n",
    "    print(add1)\n",
    "add11()\n",
    "#Step-1: Global variable intialization a1=100\n",
    "# Step-2: Define the function a1=1000\n",
    "# Step-3: Call the function\n",
    "a1=1000\n",
    "# Step-4: Running the function a1=1000"
   ]
  },
  {
   "cell_type": "code",
   "execution_count": 8,
   "id": "debadc05-cb5e-45e8-a541-283550ab6ea6",
   "metadata": {},
   "outputs": [
    {
     "ename": "IndentationError",
     "evalue": "expected an indented block after function definition on line 4 (1439856314.py, line 5)",
     "output_type": "error",
     "traceback": [
      "\u001b[1;36m  Cell \u001b[1;32mIn[8], line 5\u001b[1;36m\u001b[0m\n\u001b[1;33m    add1=a1+b1\u001b[0m\n\u001b[1;37m    ^\u001b[0m\n\u001b[1;31mIndentationError\u001b[0m\u001b[1;31m:\u001b[0m expected an indented block after function definition on line 4\n"
     ]
    }
   ],
   "source": [
    "# Case-6:\n",
    "a1=100\n",
    "b1=200\n",
    "def add11(a1=1000):\n",
    "add1=a1+b1\n",
    "print(add1)\n",
    "add11(a1=2000,b1=3000)\n",
    "# while defiening function only one argument is there\n",
    "# while calling we are providing two arguments\n",
    "# It is not possibile"
   ]
  },
  {
   "cell_type": "code",
   "execution_count": 9,
   "id": "4d70d063-2b75-4b69-bb96-9d8e5a05ea64",
   "metadata": {},
   "outputs": [
    {
     "name": "stdout",
     "output_type": "stream",
     "text": [
      "2200\n"
     ]
    }
   ],
   "source": [
    "# Case-7:\n",
    "a1=100\n",
    "b1=200\n",
    "def add11(a1=1000):\n",
    "    add1=a1+b1\n",
    "    print(add1)\n",
    "add11(a1=2000)\n",
    "#Step-1: Global variable intialization a1=100\n",
    "# Step-2: Define the function a1=1000\n",
    "# Step-3: Call the function a1=2000(latest value)\n",
    "# step4: running the function a1=2000 and b1=200\n",
    "a1=1000"
   ]
  },
  {
   "cell_type": "code",
   "execution_count": 10,
   "id": "ec3c0277-01a4-47fb-98f3-932a4e1c3f5f",
   "metadata": {},
   "outputs": [
    {
     "name": "stdout",
     "output_type": "stream",
     "text": [
      "5200\n"
     ]
    }
   ],
   "source": [
    "# Case-8:\n",
    "a1=100\n",
    "b1=200\n",
    "def add11(a1=1000):\n",
    "    a1=5000\n",
    "    add1=a1+b1\n",
    "    print(add1)\n",
    "add11(a1=2000)\n",
    "Step-1: Global variable intialization a1=100\n",
    "# Step-2: Define the function a1=1000\n",
    "# Step-3: Call the function a1=2000\n",
    "# step4: running the function a1=5000(latest value)and b1=200\n",
    "a1=1000"
   ]
  },
  {
   "cell_type": "code",
   "execution_count": 12,
   "id": "07df2631-aad8-40e6-a2ca-92ed126598db",
   "metadata": {},
   "outputs": [
    {
     "name": "stdout",
     "output_type": "stream",
     "text": [
      "5200\n"
     ]
    }
   ],
   "source": [
    "# Case-9:\n",
    "a1=100\n",
    "b1=200\n",
    "def add2(a1=1000):\n",
    "    a1=5000\n",
    "    add1=a1+b1\n",
    "    print(add1)\n",
    "a1=6000\n",
    "add2(a1=2000)\n",
    "# gobal variables a1=100,b1=200\n",
    "# define the function a1=1000\n",
    "# a1=6000\n",
    "# calling the a1=2000\n",
    "# running a1=5000"
   ]
  },
  {
   "cell_type": "code",
   "execution_count": 14,
   "id": "5d1fbe3f-d743-4e92-ba1b-8e72afec1559",
   "metadata": {},
   "outputs": [
    {
     "name": "stdout",
     "output_type": "stream",
     "text": [
      "6200\n"
     ]
    }
   ],
   "source": [
    "# Case-10:\n",
    "b1=200\n",
    "def add11():\n",
    "    add1=a1+b1\n",
    "    print(add1)\n",
    "a1=6000\n",
    "add11()\n",
    "# b1=200\n",
    "# define the function\n",
    "# a1=6000 local variable\n",
    "# calling the function\n",
    "# running the function"
   ]
  },
  {
   "cell_type": "code",
   "execution_count": null,
   "id": "8742f153-12aa-4ed5-b8a5-5187e19fc7bf",
   "metadata": {},
   "outputs": [],
   "source": []
  }
 ],
 "metadata": {
  "kernelspec": {
   "display_name": "Python 3 (ipykernel)",
   "language": "python",
   "name": "python3"
  },
  "language_info": {
   "codemirror_mode": {
    "name": "ipython",
    "version": 3
   },
   "file_extension": ".py",
   "mimetype": "text/x-python",
   "name": "python",
   "nbconvert_exporter": "python",
   "pygments_lexer": "ipython3",
   "version": "3.11.7"
  }
 },
 "nbformat": 4,
 "nbformat_minor": 5
}
