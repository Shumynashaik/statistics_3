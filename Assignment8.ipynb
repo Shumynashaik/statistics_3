{
 "cells": [
  {
   "cell_type": "markdown",
   "id": "1d403026-8e3a-4d9c-8360-5f5b658cba1f",
   "metadata": {},
   "source": [
    "1.take a random number between 1 to 100 print it is a even number and odd number you need to generate 3 random number"
   ]
  },
  {
   "cell_type": "code",
   "execution_count": 1,
   "id": "aa56a8dd-dd93-4fa6-879c-c8eaffff154d",
   "metadata": {},
   "outputs": [
    {
     "name": "stdout",
     "output_type": "stream",
     "text": [
      "84-the number is even\n",
      "64-the number is even\n",
      "77-the number is odd\n"
     ]
    }
   ],
   "source": [
    "import random\n",
    "i=0\n",
    "while i<3:\n",
    "    n=random.randint(1,100)\n",
    "    if n%2==0:\n",
    "        print(f\"{n}-the number is even\")\n",
    "    else:\n",
    "        print(f\"{n}-the number is odd\")\n",
    "    i=i+1"
   ]
  },
  {
   "cell_type": "markdown",
   "id": "879cf1e5-1142-4f6a-94b5-0b53c66c9bc9",
   "metadata": {},
   "source": [
    "2.wap ask the user print the number is even or odd between 10 to 20"
   ]
  },
  {
   "cell_type": "code",
   "execution_count": 3,
   "id": "f48e1f78-730b-4b75-b7b4-26557ad74d3e",
   "metadata": {},
   "outputs": [
    {
     "name": "stdout",
     "output_type": "stream",
     "text": [
      "16-the number is even\n",
      "11-the number is odd\n",
      "17-the number is odd\n"
     ]
    }
   ],
   "source": [
    "import random\n",
    "i=0\n",
    "while i<3:\n",
    "    n=random.randint(10,20)\n",
    "    if n%2==0:\n",
    "        print(f\"{n}-the number is even\")\n",
    "    else:\n",
    "        print(f\"{n}-the number is odd\")\n",
    "    i=i+1"
   ]
  },
  {
   "cell_type": "markdown",
   "id": "08fec53d-e5da-48fa-87c4-71818ca58866",
   "metadata": {},
   "source": [
    "3.wap ask the user print the square of the number between 20 to 25"
   ]
  },
  {
   "cell_type": "code",
   "execution_count": 4,
   "id": "d52ac39e-2a9f-447d-99f5-dfef8a85525c",
   "metadata": {},
   "outputs": [
    {
     "name": "stdin",
     "output_type": "stream",
     "text": [
      "enter the number 20-25 23\n"
     ]
    },
    {
     "name": "stdout",
     "output_type": "stream",
     "text": [
      "529\n"
     ]
    },
    {
     "name": "stdin",
     "output_type": "stream",
     "text": [
      "enter the number 20-25 24\n"
     ]
    },
    {
     "name": "stdout",
     "output_type": "stream",
     "text": [
      "576\n"
     ]
    },
    {
     "name": "stdin",
     "output_type": "stream",
     "text": [
      "enter the number 20-25 25\n"
     ]
    },
    {
     "name": "stdout",
     "output_type": "stream",
     "text": [
      "625\n"
     ]
    }
   ],
   "source": [
    "i=0\n",
    "while True:\n",
    "    n=eval(input(\"enter the number 20-25\"))\n",
    "    p=n*n\n",
    "    print(p)\n",
    "    i=i+1\n",
    "    if i==3:\n",
    "        break"
   ]
  },
  {
   "cell_type": "markdown",
   "id": "b7a4b5e1-dcaa-4dac-af2f-126d96ad43f5",
   "metadata": {},
   "source": [
    "4.WAP ask the user enter number three times find the square of the number How many times loop should run"
   ]
  },
  {
   "cell_type": "code",
   "execution_count": 5,
   "id": "0d11263b-c486-48c4-a423-1d116443637e",
   "metadata": {},
   "outputs": [
    {
     "name": "stdin",
     "output_type": "stream",
     "text": [
      "enter a number 7\n"
     ]
    },
    {
     "name": "stdout",
     "output_type": "stream",
     "text": [
      "49\n"
     ]
    },
    {
     "name": "stdin",
     "output_type": "stream",
     "text": [
      "enter a number 8\n"
     ]
    },
    {
     "name": "stdout",
     "output_type": "stream",
     "text": [
      "64\n"
     ]
    },
    {
     "name": "stdin",
     "output_type": "stream",
     "text": [
      "enter a number 9\n"
     ]
    },
    {
     "name": "stdout",
     "output_type": "stream",
     "text": [
      "81\n"
     ]
    }
   ],
   "source": [
    "i=0\n",
    "while i<3:\n",
    "    n=eval(input(\"enter a number\"))\n",
    "    p=n*n\n",
    "    print(p)\n",
    "    i=i+1\n",
    "    if i==3:\n",
    "        break"
   ]
  },
  {
   "cell_type": "markdown",
   "id": "63e150e3-b8fd-465d-b2f4-2daa512834be",
   "metadata": {},
   "source": [
    "5.print the 14th table"
   ]
  },
  {
   "cell_type": "code",
   "execution_count": 6,
   "id": "0385f900-0f61-481f-978d-1c02129089ca",
   "metadata": {},
   "outputs": [
    {
     "name": "stdin",
     "output_type": "stream",
     "text": [
      "enter a number 14\n"
     ]
    },
    {
     "name": "stdout",
     "output_type": "stream",
     "text": [
      "14x0=0\n",
      "14x1=14\n",
      "14x2=28\n",
      "14x3=42\n",
      "14x4=56\n",
      "14x5=70\n",
      "14x6=84\n",
      "14x7=98\n",
      "14x8=112\n",
      "14x9=126\n",
      "14x10=140\n"
     ]
    }
   ],
   "source": [
    "i=0\n",
    "user_input=eval(input(\"enter a number\"))\n",
    "while i<11:\n",
    "    p=user_input*i\n",
    "    print(f\"{user_input}x{i}={p}\")\n",
    "    i=i+1\n",
    "    "
   ]
  },
  {
   "cell_type": "markdown",
   "id": "b5070985-5cb4-450d-8013-e42e942acabb",
   "metadata": {},
   "source": [
    "6.Find the factors of 75"
   ]
  },
  {
   "cell_type": "code",
   "execution_count": 8,
   "id": "83f3fe8e-54bb-4a00-b497-f78d5df92bbe",
   "metadata": {},
   "outputs": [
    {
     "name": "stdin",
     "output_type": "stream",
     "text": [
      "enter a number 75\n"
     ]
    },
    {
     "name": "stdout",
     "output_type": "stream",
     "text": [
      "1 3 5 15 25 75 "
     ]
    }
   ],
   "source": [
    "user_input=eval(input(\"enter a number\"))\n",
    "i=1\n",
    "while i<=user_input:\n",
    "    if user_input%i==0:\n",
    "        print(i,end=' ')\n",
    "    i=i+1  "
   ]
  },
  {
   "cell_type": "markdown",
   "id": "a3b1b681-4207-401f-8779-bc38520adfd5",
   "metadata": {},
   "source": [
    "7.Write the sum of first 10 Natural numbers"
   ]
  },
  {
   "cell_type": "code",
   "execution_count": 9,
   "id": "fe134afc-945b-4ddd-aa45-a810c3b39902",
   "metadata": {},
   "outputs": [
    {
     "name": "stdout",
     "output_type": "stream",
     "text": [
      "55\n"
     ]
    }
   ],
   "source": [
    "summ=0\n",
    "i=1\n",
    "while i<=10:\n",
    "    summ=summ+i\n",
    "    i=i+1\n",
    "print(summ)"
   ]
  },
  {
   "cell_type": "markdown",
   "id": "9a8166d5-8273-4865-8c67-457b343112e5",
   "metadata": {},
   "source": [
    "8.Average first 1 to 10 numbers"
   ]
  },
  {
   "cell_type": "code",
   "execution_count": 10,
   "id": "fa377091-2326-48c9-a7e9-173e8adfa899",
   "metadata": {},
   "outputs": [
    {
     "name": "stdin",
     "output_type": "stream",
     "text": [
      "enter a number: 10\n"
     ]
    },
    {
     "name": "stdout",
     "output_type": "stream",
     "text": [
      "5.5\n"
     ]
    }
   ],
   "source": [
    "summ=0\n",
    "n=eval(input(\"enter a number:\"))\n",
    "i=1\n",
    "while i<=10:\n",
    "    summ=summ+i\n",
    "    i=i+1\n",
    "print(summ/n)"
   ]
  },
  {
   "cell_type": "markdown",
   "id": "dc608e10-81a0-4c3e-9c5e-c84c199bc743",
   "metadata": {},
   "source": [
    "9.Find the number of divisors of 75"
   ]
  },
  {
   "cell_type": "code",
   "execution_count": 11,
   "id": "87a85f5f-959f-4279-928c-5483a156bdd3",
   "metadata": {},
   "outputs": [
    {
     "name": "stdin",
     "output_type": "stream",
     "text": [
      "enter the number 75\n"
     ]
    },
    {
     "name": "stdout",
     "output_type": "stream",
     "text": [
      "6\n"
     ]
    }
   ],
   "source": [
    "count=0\n",
    "num=eval(input(\"enter the number\"))\n",
    "i=1\n",
    "while i<=num:\n",
    "    if num%i==0:\n",
    "        count=count+1\n",
    "    i=i+1\n",
    "print(count)    "
   ]
  },
  {
   "cell_type": "markdown",
   "id": "f6e778c7-282a-492d-9316-ec603312b805",
   "metadata": {},
   "source": [
    "10.Get a random number between 1 to 10 : num1 Ask the user enter a number : num2 if num1 == num2 then print won else print fail"
   ]
  },
  {
   "cell_type": "code",
   "execution_count": 12,
   "id": "3f89fd5c-da85-4626-b051-cd6f3fa6868b",
   "metadata": {},
   "outputs": [
    {
     "name": "stdin",
     "output_type": "stream",
     "text": [
      "enter the number 25\n"
     ]
    },
    {
     "name": "stdout",
     "output_type": "stream",
     "text": [
      "lost\n"
     ]
    },
    {
     "name": "stdin",
     "output_type": "stream",
     "text": [
      "enter the number 34\n"
     ]
    },
    {
     "name": "stdout",
     "output_type": "stream",
     "text": [
      "lost\n"
     ]
    },
    {
     "name": "stdin",
     "output_type": "stream",
     "text": [
      "enter the number 45\n"
     ]
    },
    {
     "name": "stdout",
     "output_type": "stream",
     "text": [
      "lost\n"
     ]
    }
   ],
   "source": [
    "import random\n",
    "i=0\n",
    "while i<3:\n",
    "    num1=random.randint(1,100)\n",
    "    num2=eval(input(\"enter the number\"))\n",
    "    if num1==num2:\n",
    "        print(\"hurray!!\")\n",
    "    else:\n",
    "        print(\"lost\")\n",
    "    i=i+1\n",
    "    "
   ]
  },
  {
   "cell_type": "code",
   "execution_count": 13,
   "id": "81235582-f4fa-43c8-b7cd-daf3eea2c913",
   "metadata": {},
   "outputs": [
    {
     "name": "stdin",
     "output_type": "stream",
     "text": [
      "enter the number 34\n"
     ]
    },
    {
     "name": "stdout",
     "output_type": "stream",
     "text": [
      "lost\n"
     ]
    },
    {
     "name": "stdin",
     "output_type": "stream",
     "text": [
      "enter the number 34\n"
     ]
    },
    {
     "name": "stdout",
     "output_type": "stream",
     "text": [
      "lost\n"
     ]
    },
    {
     "name": "stdin",
     "output_type": "stream",
     "text": [
      "enter the number 45\n"
     ]
    },
    {
     "name": "stdout",
     "output_type": "stream",
     "text": [
      "lost\n"
     ]
    }
   ],
   "source": [
    "# Case-2: whenever you won the code should stop\n",
    "import random\n",
    "i=0\n",
    "while i<3:\n",
    "    num1=random.randint(1,100)\n",
    "    num2=eval(input(\"enter the number\"))\n",
    "    if num1==num2:\n",
    "        print(\"hurray!!\")\n",
    "        break\n",
    "    else:\n",
    "        print(\"lost\")\n",
    "    i=i+1\n",
    "    "
   ]
  },
  {
   "cell_type": "code",
   "execution_count": 14,
   "id": "11bf4557-2a89-4812-9116-ba0f97f916e7",
   "metadata": {},
   "outputs": [
    {
     "name": "stdin",
     "output_type": "stream",
     "text": [
      "enter the number 23\n"
     ]
    },
    {
     "name": "stdout",
     "output_type": "stream",
     "text": [
      "lost\n",
      "you have 2 more chances\n"
     ]
    },
    {
     "name": "stdin",
     "output_type": "stream",
     "text": [
      "enter the number 34\n"
     ]
    },
    {
     "name": "stdout",
     "output_type": "stream",
     "text": [
      "hurray!!\n"
     ]
    }
   ],
   "source": [
    " #Case-3:\n",
    "# Suppose i want to give 4 chances\n",
    "# Every time you fail I want to display\n",
    "#  Number of chances left\n",
    " # Case-2: whenever you won the code should stop\n",
    "import random\n",
    "count=0\n",
    "i=0\n",
    "while i<3:\n",
    "    num1=random.randint(1,100)\n",
    "    num2=eval(input(\"enter the number\"))\n",
    "    if num1==num2:\n",
    "        print(\"hurray!!\")\n",
    "        break\n",
    "    else:\n",
    "        print(\"lost\")\n",
    "        count=count+1\n",
    "        print(f\"you have {3-count} more chances\")\n",
    "    i=i+1\n",
    "if count==3:    \n",
    "    print(\"try after 24 hrs\")\n",
    " "
   ]
  },
  {
   "cell_type": "markdown",
   "id": "425b5af0-3e83-49f2-be52-06757cf586fa",
   "metadata": {},
   "source": [
    "11.wap ask the user get 5 random numbers Get it is an even number or odd number also count how many even numbers are there and count how many odd numbers are there\n"
   ]
  },
  {
   "cell_type": "code",
   "execution_count": 15,
   "id": "bf5fcfaa-5613-4e70-a391-72f4368c4a6e",
   "metadata": {},
   "outputs": [
    {
     "name": "stdout",
     "output_type": "stream",
     "text": [
      "odd 11-1\n",
      "even 10-1\n",
      "odd 1-2\n",
      "even 6-2\n",
      "odd 7-3\n"
     ]
    }
   ],
   "source": [
    "import random\n",
    "even_count=0\n",
    "odd_count=0\n",
    "i=0\n",
    "while i<5:\n",
    "    num=random.randint(1,20)\n",
    "    if num%2==0: \n",
    "        even_count=even_count+1\n",
    "        print(f\"even {num}-{even_count}\")\n",
    "    else:\n",
    "        odd_count=odd_count+1\n",
    "        print(f\"odd {num}-{odd_count}\")\n",
    "    i=i+1"
   ]
  },
  {
   "cell_type": "code",
   "execution_count": 16,
   "id": "a56d8366-3fe7-4d21-96bd-fb0bd62d47da",
   "metadata": {},
   "outputs": [
    {
     "name": "stdout",
     "output_type": "stream",
     "text": [
      "the number is odd 17\n",
      "1\n",
      "the number is even 6\n",
      "1\n",
      "the number is odd 3\n",
      "2\n",
      "the number is even 18\n",
      "2\n",
      "the number is odd 1\n",
      "3\n"
     ]
    }
   ],
   "source": [
    "import random\n",
    "even_count=0\n",
    "odd_count=0\n",
    "i=0\n",
    "while i<5:\n",
    "    num=random.randint(1,20)\n",
    "    if num%2==0: \n",
    "        print(f\"the number is even {num}\")\n",
    "        even_count=even_count+1\n",
    "        print(even_count)\n",
    "    else:\n",
    "        print(f\"the number is odd {num}\")\n",
    "        odd_count=odd_count+1\n",
    "        print(odd_count)\n",
    "    i=i+1"
   ]
  },
  {
   "cell_type": "markdown",
   "id": "a18eca9d-3e2c-46c5-ae98-3c763ab3092c",
   "metadata": {},
   "source": [
    "12. wap ask the user get 5 random numbers Get it is an even number or odd number also count how many even numbers are there and count how many odd numbers are there I want summ even numbers I want summ odd numbers\n"
   ]
  },
  {
   "cell_type": "code",
   "execution_count": 15,
   "id": "8287b4ee-f907-4b4a-aa45-8486749bfec5",
   "metadata": {},
   "outputs": [
    {
     "name": "stdout",
     "output_type": "stream",
     "text": [
      "the sum of even numbers1\n",
      "the sum of even numbers8\n",
      "the sum of even numbers9\n",
      "the sum of even numbers4\n",
      "the sum of even numbers10\n"
     ]
    }
   ],
   "source": [
    "import random\n",
    "even_count=0\n",
    "odd_count=0\n",
    "even_summ=0\n",
    "odd_summ=0\n",
    "i=0\n",
    "while i<5:\n",
    "    num=random.randint(1,10)\n",
    "    if num%2==0: \n",
    "        even_count=even_count+1\n",
    "        even_summ=even_summ+num\n",
    "        print(f\"the sum of even numbers{even_summ}\")\n",
    "    else:\n",
    "        odd_count=odd_count+1\n",
    "        odd_summ=odd_summ+num\n",
    "        print(f\"the sum of even numbers{odd_summ}\")\n",
    "    i=i+1"
   ]
  },
  {
   "cell_type": "code",
   "execution_count": null,
   "id": "c1b53094-bd83-4bda-8fae-ef7752ac559d",
   "metadata": {},
   "outputs": [],
   "source": []
  }
 ],
 "metadata": {
  "kernelspec": {
   "display_name": "Python 3 (ipykernel)",
   "language": "python",
   "name": "python3"
  },
  "language_info": {
   "codemirror_mode": {
    "name": "ipython",
    "version": 3
   },
   "file_extension": ".py",
   "mimetype": "text/x-python",
   "name": "python",
   "nbconvert_exporter": "python",
   "pygments_lexer": "ipython3",
   "version": "3.11.7"
  }
 },
 "nbformat": 4,
 "nbformat_minor": 5
}
