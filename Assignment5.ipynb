{
 "cells": [
  {
   "cell_type": "markdown",
   "id": "337f117f-4252-485a-8a5a-57268ed37ad9",
   "metadata": {},
   "source": [
    "1.wap ask the user enter 3 numbers calculate average"
   ]
  },
  {
   "cell_type": "code",
   "execution_count": 4,
   "id": "1681cf45-5428-4897-b84a-ff6d63a642f4",
   "metadata": {},
   "outputs": [
    {
     "name": "stdout",
     "output_type": "stream",
     "text": [
      "23.333333333333332\n",
      "40.0\n"
     ]
    }
   ],
   "source": [
    "#without argument:\n",
    "def average():\n",
    "    n1=10\n",
    "    n2=10\n",
    "    n3=10\n",
    "    avg=n1+n2+n3/3\n",
    "    print(avg)\n",
    "average()\n",
    "# with arguments:\n",
    "def average1(n1,n2,n3):\n",
    "    avg=n1+n2+n3/3\n",
    "    print(avg)\n",
    "average1(10,20,30)"
   ]
  },
  {
   "cell_type": "markdown",
   "id": "eee0dc3d-8ff6-45e6-a329-b695ab24a607",
   "metadata": {},
   "source": [
    "2.wap ask the uer enter radius values find the area of the circle"
   ]
  },
  {
   "cell_type": "code",
   "execution_count": 8,
   "id": "ac0b170c-e1ef-448a-b672-6145248fed92",
   "metadata": {},
   "outputs": [
    {
     "name": "stdin",
     "output_type": "stream",
     "text": [
      "enter the number: 10\n"
     ]
    },
    {
     "name": "stdout",
     "output_type": "stream",
     "text": [
      "314.0\n",
      "1256.0\n"
     ]
    }
   ],
   "source": [
    "#with arguments:\n",
    "def roc():\n",
    "    n1=eval(input(\"enter the number:\"))\n",
    "    aoc= n1*n1*3.14\n",
    "    print(aoc)\n",
    "roc()\n",
    "# without arguments:\n",
    "def roc1(n1):\n",
    "    aoc= n1*n1*3.14\n",
    "    print(aoc)\n",
    "roc1(20)"
   ]
  },
  {
   "cell_type": "markdown",
   "id": "707da3f2-04a6-42a5-aea3-46dad53ecb5b",
   "metadata": {},
   "source": [
    "3.wap ask the user bill amount, ask the user how much tip you want pay in percentage calculate totalbill"
   ]
  },
  {
   "cell_type": "code",
   "execution_count": 10,
   "id": "f95af9dd-642d-477e-a661-b4917c43c91f",
   "metadata": {},
   "outputs": [
    {
     "name": "stdin",
     "output_type": "stream",
     "text": [
      "bill: 800\n"
     ]
    },
    {
     "name": "stdout",
     "output_type": "stream",
     "text": [
      "the bill is 800\n",
      "the total bill is 880.0\n",
      "the bill is 80\n",
      "the total bill is 88.0\n"
     ]
    }
   ],
   "source": [
    "#without arguments:\n",
    "def bill():\n",
    "    rb=eval(input('bill:'))\n",
    "    tip=10/100\n",
    "    ta=rb*tip\n",
    "    total=rb+ta\n",
    "    print(\"the bill is {}\".format(rb))\n",
    "    print(\"the total bill is {}\".format(total))\n",
    "bill()\n",
    "# with arguments:\n",
    "def bill1(rb):\n",
    "    tip=10/100\n",
    "    ta=rb*tip\n",
    "    total=rb+ta\n",
    "    print(\"the bill is {}\".format(rb))\n",
    "    print(\"the total bill is {}\".format(total))\n",
    "bill1(80)\n"
   ]
  },
  {
   "cell_type": "markdown",
   "id": "8896271d-81bc-4995-8ef1-8da7b72e1f7d",
   "metadata": {},
   "source": [
    "4.wap ask the user enter base height calculate area of the triangle"
   ]
  },
  {
   "cell_type": "code",
   "execution_count": 11,
   "id": "209bb4be-bf7f-4b85-b73f-0656e668139b",
   "metadata": {},
   "outputs": [
    {
     "name": "stdin",
     "output_type": "stream",
     "text": [
      "enter the height: 3\n",
      "enter the base: 4\n"
     ]
    },
    {
     "name": "stdout",
     "output_type": "stream",
     "text": [
      "6.0\n",
      "100.0\n"
     ]
    }
   ],
   "source": [
    "#without arguments:\n",
    "def AOT():\n",
    "    h=eval(input(\"enter the height:\"))\n",
    "    b=eval(input(\"enter the base:\"))\n",
    "    aot=1/2*b*h\n",
    "    print(aot)\n",
    "AOT()\n",
    "#with arguments:\n",
    "def AOT1(h,b):\n",
    "    aot=1/2*b*h\n",
    "    print(aot)\n",
    "AOT1(10,20)"
   ]
  },
  {
   "cell_type": "markdown",
   "id": "5993c60c-f5e0-4aaa-9fc2-8f2e98424c8f",
   "metadata": {},
   "source": [
    "5.wap ask the user enter length and breadth calculate area of the rectangle"
   ]
  },
  {
   "cell_type": "code",
   "execution_count": 12,
   "id": "178e52d4-2200-4b67-a0c4-8232529f3bed",
   "metadata": {},
   "outputs": [
    {
     "name": "stdin",
     "output_type": "stream",
     "text": [
      "enter the length: 3\n",
      "enter the breath 4\n"
     ]
    },
    {
     "name": "stdout",
     "output_type": "stream",
     "text": [
      "12\n",
      "200\n"
     ]
    }
   ],
   "source": [
    "#without arguments:\n",
    "def AOR():\n",
    "    l=eval(input(\"enter the length:\"))\n",
    "    b=eval(input(\"enter the breath\"))\n",
    "    aor=l*b\n",
    "    print(aor)\n",
    "AOR()\n",
    "#with arguments:\n",
    "def AOR(l,b):\n",
    "    aor=l*b\n",
    "    print(aor)\n",
    "AOR(10,20)"
   ]
  },
  {
   "cell_type": "markdown",
   "id": "5de2d075-5cf0-4f1b-81e6-3cf705b571b5",
   "metadata": {},
   "source": [
    "6.wap ask the user enter a number find it is a even number or odd number"
   ]
  },
  {
   "cell_type": "code",
   "execution_count": 15,
   "id": "56a576d4-7627-4ef6-bed1-7f1e8853bbd3",
   "metadata": {},
   "outputs": [
    {
     "name": "stdin",
     "output_type": "stream",
     "text": [
      "enter the number 35\n"
     ]
    },
    {
     "name": "stdout",
     "output_type": "stream",
     "text": [
      "the value is odd \n",
      "the value is even\n"
     ]
    }
   ],
   "source": [
    "#with arguments\n",
    "def eveorodd():\n",
    "    n1=eval(input(\"enter the number\"))\n",
    "    if n1%2==0:\n",
    "        print(\"the value is even\")\n",
    "    else:\n",
    "        print(\"the value is odd \")\n",
    "eveorodd()\n",
    "#without argumnets\n",
    "def eveorodd1(n1):\n",
    "    if n1%2==0:\n",
    "        print(\"the value is even\")\n",
    "    else:\n",
    "        print(\"the value is odd \")\n",
    "eveorodd1(46)\n"
   ]
  },
  {
   "cell_type": "markdown",
   "id": "136ff7b7-fd7a-47d8-b246-5c3ceb0f4d8f",
   "metadata": {},
   "source": [
    "7.wap ask the user enter the distance if distance greater than 25km then enter the charge print the total cost\n",
    "otherwiseprint free ride"
   ]
  },
  {
   "cell_type": "code",
   "execution_count": 26,
   "id": "7bf52f57-c280-4591-a9ab-a0b4329c7e90",
   "metadata": {},
   "outputs": [
    {
     "name": "stdin",
     "output_type": "stream",
     "text": [
      "enter the distance in km: 25\n"
     ]
    },
    {
     "name": "stdout",
     "output_type": "stream",
     "text": [
      "enjoy the free ride\n",
      "the total charge is: 2652\n"
     ]
    }
   ],
   "source": [
    "#with arguments\n",
    "def cost():\n",
    "    distance=eval(input(\"enter the distance in km:\")) \n",
    "    if distance>25:\n",
    "        charge=eval(input(\"enter the charge in rs\"))\n",
    "        cost=distance*charge \n",
    "        print(\"the total charge is:\",cost) \n",
    "    else: \n",
    "     print(\"enjoy the free ride\") \n",
    "cost()\n",
    "#without arguments\n",
    "def cost1(distance):\n",
    "    if distance>25:\n",
    "        charge=78\n",
    "        cost=distance*charge \n",
    "        print(\"the total charge is:\",cost) \n",
    "    else: \n",
    "        print(\"enjoy the free ride\") \n",
    "cost1(34)"
   ]
  },
  {
   "cell_type": "markdown",
   "id": "bbe734da-6496-42ab-a2ab-2bf3694d8e0e",
   "metadata": {},
   "source": [
    "8.Implement the above problem by taking a random input  between  1, 100"
   ]
  },
  {
   "cell_type": "code",
   "execution_count": 40,
   "id": "e09b7a18-15ff-4757-8587-a1cd74460bc3",
   "metadata": {},
   "outputs": [
    {
     "name": "stdout",
     "output_type": "stream",
     "text": [
      "[21, 41, 1, 51, 71, 11, 31, 81, 91, 61]\n"
     ]
    }
   ],
   "source": [
    "import random\n",
    "#  without arguments:\n",
    "def ran():\n",
    "    n1=list(range(1,100,10))\n",
    "    random.shuffle(n1)\n",
    "    print(n1)\n",
    "ran()"
   ]
  },
  {
   "cell_type": "markdown",
   "id": "aa08393f-668f-4f73-94ae-e3ecc59063bc",
   "metadata": {},
   "source": [
    "9.wap ask the user enter the distance cutoff distance enter 25 if distance greater than 25km  print(\"good news your charge is aplicable for only remaining of 25\")\n",
    " chargeble distance= distance-cutoff then enter the charge print the total cost otherwise print free ride\n"
   ]
  },
  {
   "cell_type": "code",
   "execution_count": 48,
   "id": "689e0b55-a8aa-47f6-8b45-6cc2ad1c8412",
   "metadata": {},
   "outputs": [
    {
     "name": "stdin",
     "output_type": "stream",
     "text": [
      "enter the distance in km: 25\n",
      "enter the cuto ff distance in km: 25\n"
     ]
    },
    {
     "name": "stdout",
     "output_type": "stream",
     "text": [
      "enjoy the free ride\n"
     ]
    }
   ],
   "source": [
    "# without argumnets\n",
    "def dis():\n",
    "    distance=eval(input(\"enter the distance in km:\"))\n",
    "    cutoff_distance=eval(input(\"enter the cuto ff distance in km:\"))\n",
    "    if distance>cutoff_distance:\n",
    "        chargeble_distance=distance-cutoff_distance\n",
    "        print(\" hello!the chargeble distance is:\",chargeble_distance)\n",
    "        charge=eval(input(\"enter the charge in rs\"))\n",
    "        cost=chargeble_distance*charge\n",
    "        print(\"the total charge is:\",cost)\n",
    "    else:\n",
    "        print(\"enjoy the free ride\")\n",
    "dis()"
   ]
  },
  {
   "cell_type": "code",
   "execution_count": 49,
   "id": "714a04ba-b757-4e53-8f94-72ebf1948ca5",
   "metadata": {},
   "outputs": [
    {
     "name": "stdout",
     "output_type": "stream",
     "text": [
      " hello!the chargeble distance is: 30\n"
     ]
    },
    {
     "name": "stdin",
     "output_type": "stream",
     "text": [
      "enter the charge in rs 89\n"
     ]
    },
    {
     "name": "stdout",
     "output_type": "stream",
     "text": [
      "the total charge is: 2670\n"
     ]
    }
   ],
   "source": [
    "# with argumnets\n",
    "def dis1(distance,cutoff_distance):\n",
    "    if distance>cutoff_distance:\n",
    "        chargeble_distance=distance-cutoff_distance\n",
    "        print(\" hello!the chargeble distance is:\",chargeble_distance)\n",
    "        charge=eval(input(\"enter the charge in rs\"))\n",
    "        cost=chargeble_distance*charge\n",
    "        print(\"the total charge is:\",cost)\n",
    "    else:\n",
    "        print(\"enjoy the free ride\")\n",
    "dis1(50,20)"
   ]
  },
  {
   "cell_type": "markdown",
   "id": "ea8d0e2e-0a8a-4364-bd9f-6b557c93012a",
   "metadata": {},
   "source": [
    "10.wap ask the user enter the course ask the user enter the Institute if the course equal to data science and institute equal to naresh it\n",
    "then you are good otherwise you are bad\n",
    "\n"
   ]
  },
  {
   "cell_type": "code",
   "execution_count": 58,
   "id": "3ecc5b45-9b20-4bdc-83bd-7625c73de0fc",
   "metadata": {},
   "outputs": [
    {
     "name": "stdin",
     "output_type": "stream",
     "text": [
      " jj\n",
      " kk\n"
     ]
    },
    {
     "name": "stdout",
     "output_type": "stream",
     "text": [
      "your bad\n",
      "you are good\n"
     ]
    }
   ],
   "source": [
    "#with arguments\n",
    "def course():\n",
    "        course=input('')\n",
    "        institute=input('')\n",
    "        if course=='datascience' and institute=='nareshit':\n",
    "            print(\"you are good\") \n",
    "        else:\n",
    "            print(\"your bad\")\n",
    "course()\n",
    "#without arguments\n",
    "def course(course,institute):\n",
    "        if course=='datascience' and institute=='nareshit':\n",
    "            print(\"you are good\") \n",
    "        else:\n",
    "            print(\"your bad\")\n",
    "course('datascience','nareshit')"
   ]
  },
  {
   "cell_type": "markdown",
   "id": "9e2e457b-8e20-4cc2-b838-cbe0d9ec7a8d",
   "metadata": {},
   "source": [
    "11.wap ask the user enter a random number between 1 to 10, treat this as number1 ask the user enter another number from keyboard, treat this as number2\n",
    "if number1 equal to number2 print you won otherwise print you lost"
   ]
  },
  {
   "cell_type": "code",
   "execution_count": 8,
   "id": "1030f7fd-cc00-4897-966a-ae5201651362",
   "metadata": {},
   "outputs": [
    {
     "name": "stdin",
     "output_type": "stream",
     "text": [
      " 44\n"
     ]
    },
    {
     "name": "stdout",
     "output_type": "stream",
     "text": [
      "lost\n",
      "lost\n"
     ]
    }
   ],
   "source": [
    "import random\n",
    "# without arguments\n",
    "def ran():\n",
    "    n1= random.randint(1,10)\n",
    "    n2= eval(input(\"\"))\n",
    "    if n1==n2:\n",
    "        print(\"you won\")\n",
    "    else:\n",
    "        print(\"lost\")\n",
    "ran()\n",
    "#with arguments\n",
    "def ran1(n2):\n",
    "    n1= random.randint(1,10)\n",
    "    if n1==n2:\n",
    "        print(\"you won\")\n",
    "    else:\n",
    "        print(\"lost\")\n",
    "ran1(5)"
   ]
  },
  {
   "cell_type": "markdown",
   "id": "92fcd7c7-6afa-4eb9-b23a-52e210edb85b",
   "metadata": {},
   "source": [
    "12. wap ask the user enter number if number equal to 1 then print one if number equal to 2 then print two\n",
    "if number equal to 3 then print three otherwise  print enter a valid number\n"
   ]
  },
  {
   "cell_type": "code",
   "execution_count": 6,
   "id": "85c5d064-3ac9-4ff9-bdd4-171bebc66374",
   "metadata": {},
   "outputs": [
    {
     "name": "stdin",
     "output_type": "stream",
     "text": [
      "enter the number 4\n"
     ]
    },
    {
     "name": "stdout",
     "output_type": "stream",
     "text": [
      "i don't know\n",
      "the value is 3 \n"
     ]
    }
   ],
   "source": [
    "#without arguments\n",
    "def valid_number():\n",
    "    n1=eval(input(\"enter the number\"))\n",
    "    if n1==1:\n",
    "        print(\"the value is 1\")\n",
    "    elif n1==2:\n",
    "        print(\"the value is 2 \")\n",
    "    elif n1==3:\n",
    "        print(\"the value is 3 \")\n",
    "    else:\n",
    "        print(\"i don't know\")\n",
    "valid_number()\n",
    "#with arguments\n",
    "def valid_number1(n1):\n",
    "    if n1==1:\n",
    "        print(\"the value is 1\")\n",
    "    elif n1==2:\n",
    "        print(\"the value is 2 \")\n",
    "    elif n1==3:\n",
    "        print(\"the value is 3 \")\n",
    "    else:\n",
    "        print(\"i don't know\")\n",
    "valid_number1(3)"
   ]
  },
  {
   "cell_type": "markdown",
   "id": "a27d31ab-cc8d-43df-9a7a-66eb000d9c90",
   "metadata": {},
   "source": [
    "13.wap ask the user enter a number if that number greater than zero print postive if that number less than zero print negative\n",
    "otherwise print zero\n"
   ]
  },
  {
   "cell_type": "code",
   "execution_count": 2,
   "id": "b61aa6cb-5dcf-433f-bdd8-0445e8f83887",
   "metadata": {},
   "outputs": [
    {
     "name": "stdin",
     "output_type": "stream",
     "text": [
      "enter the number 2\n"
     ]
    },
    {
     "name": "stdout",
     "output_type": "stream",
     "text": [
      "the number is positive\n",
      "Zero\n"
     ]
    }
   ],
   "source": [
    "#without arguments\n",
    "def positive_negative():\n",
    "    n1=eval(input(\"enter the number\"))\n",
    "    if n1>0:\n",
    "        print(\"the number is positive\")\n",
    "    elif n1<0:\n",
    "        print(\"the number is negative\")\n",
    "    else:\n",
    "        print('0')\n",
    "positive_negative()\n",
    "# with arguments\n",
    "def positive_negative1(n1):\n",
    "    if n1>0:\n",
    "        print(\"the number is positive\")\n",
    "    elif n1<0:\n",
    "        print(\"the number is negative\")\n",
    "    else:\n",
    "        print('Zero')\n",
    "positive_negative1(0)"
   ]
  },
  {
   "cell_type": "markdown",
   "id": "802fd3ae-9696-455f-ae13-539ed9ab7a7e",
   "metadata": {},
   "source": [
    "14. WAP ask the user enter the percentage of marks 0 to 100 if percentagw gretaer than 90  print A garde if percentage between 75 to 90 print B garde\n",
    "if percentage between 50 to 75 print C grade if percentage between 35 to 50 print D grade if percentage less than 35 print Fail"
   ]
  },
  {
   "cell_type": "code",
   "execution_count": 4,
   "id": "93770cf4-7ed1-4086-9e37-0946ddbb0844",
   "metadata": {},
   "outputs": [
    {
     "name": "stdin",
     "output_type": "stream",
     "text": [
      "percentage: 32\n"
     ]
    },
    {
     "name": "stdout",
     "output_type": "stream",
     "text": [
      "fail\n",
      "A\n"
     ]
    }
   ],
   "source": [
    "#without arguments:\n",
    "def marks():\n",
    "    n1=eval(input(\"percentage:\"))\n",
    "    if n1>=90:\n",
    "        print('A')\n",
    "    elif n1>=75:\n",
    "        print('B')\n",
    "    elif n1>=50:\n",
    "        print('C')\n",
    "    elif n1>=35:\n",
    "        print('D')\n",
    "    else:\n",
    "        print('fail')\n",
    "marks()\n",
    "#with arguments\n",
    "def marks1(n1):\n",
    "    if n1>=90:\n",
    "        print('A')\n",
    "    elif n1>=75:\n",
    "        print('B')\n",
    "    elif n1>=50:\n",
    "        print('C')\n",
    "    elif n1>=35:\n",
    "        print('D')\n",
    "    else:\n",
    "        print('fail')\n",
    "marks1(98)"
   ]
  },
  {
   "cell_type": "markdown",
   "id": "cc7a7e28-11ba-4619-a923-9eaf4a6ed4ff",
   "metadata": {},
   "source": [
    "15.WAP ask the user enter the age if the age greater tahn 100 print you are lucky if the age gretaer than 75 print old age\n",
    "if the age  between 50 to 75 print ss if the age between  30 tp 50 print MA\n",
    "if the age between  15 to 30 print young ageif the afe between less than 15 print kid\n"
   ]
  },
  {
   "cell_type": "code",
   "execution_count": 5,
   "id": "70f7e8dd-b54d-438a-87ab-7b9e69eed07a",
   "metadata": {},
   "outputs": [
    {
     "name": "stdin",
     "output_type": "stream",
     "text": [
      "age: 13\n"
     ]
    },
    {
     "name": "stdout",
     "output_type": "stream",
     "text": [
      "kid\n",
      "middle age\n"
     ]
    }
   ],
   "source": [
    "# without arguments\n",
    "def age():\n",
    "    age=eval(input('age:'))\n",
    "    if age>=75:\n",
    "        print(\"old age\")\n",
    "    elif age>=50:\n",
    "        print(\"senior citizen\")\n",
    "    elif age>=30:\n",
    "        print(\"middle age\")\n",
    "    elif age>=15:\n",
    "        print(\"young age\")\n",
    "    else:\n",
    "        print(\"kid\")\n",
    "age()\n",
    "#with arguments\n",
    "def age1(age):\n",
    "    if age>=75:\n",
    "        print(\"old age\")\n",
    "    elif age>=50:\n",
    "        print(\"senior citizen\")\n",
    "    elif age>=30:\n",
    "        print(\"middle age\")\n",
    "    elif age>=15:\n",
    "        print(\"young age\")\n",
    "    else:\n",
    "        print(\"kid\")\n",
    "age1(34)"
   ]
  },
  {
   "cell_type": "code",
   "execution_count": null,
   "id": "ca635d85-e528-4376-a81b-752b8fbc0b3e",
   "metadata": {},
   "outputs": [],
   "source": []
  }
 ],
 "metadata": {
  "kernelspec": {
   "display_name": "Python 3 (ipykernel)",
   "language": "python",
   "name": "python3"
  },
  "language_info": {
   "codemirror_mode": {
    "name": "ipython",
    "version": 3
   },
   "file_extension": ".py",
   "mimetype": "text/x-python",
   "name": "python",
   "nbconvert_exporter": "python",
   "pygments_lexer": "ipython3",
   "version": "3.11.7"
  }
 },
 "nbformat": 4,
 "nbformat_minor": 5
}
